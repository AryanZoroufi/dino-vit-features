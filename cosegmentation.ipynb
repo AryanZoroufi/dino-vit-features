{
 "cells": [
  {
   "cell_type": "code",
   "execution_count": null,
   "metadata": {
    "collapsed": true
   },
   "outputs": [],
   "source": [
    "#@title Installations and mounting\n",
    "!pip install tqdm\n",
    "!pip install faiss\n",
    "!pip install timm\n",
    "!pip install opencv-python\n",
    "!pip install git+https://github.com/lucasb-eyer/pydensecrf.git\n",
    "!git clone https://github.com/ShirAmir/dino-vit-features.git"
   ]
  },
  {
   "cell_type": "code",
   "execution_count": null,
   "outputs": [],
   "source": [
    "#@title Configuration:\n",
    "#@markdown Choose image paths:\n",
    "images_paths = ['images/cat.jpg', 'images/ibex.jpg'] #@param\n",
    "#@markdown Choose loading size:\n",
    "load_size = None #@param\n",
    "#@markdown Choose layer of descriptor:\n",
    "layer = 11 #@param\n",
    "#@markdown Choose facet of descriptor:\n",
    "facet = 'key' #@param\n",
    "#@markdown Choose if to use a binned descriptor:\n",
    "bin=False #@param\n",
    "#@markdown Choose fg / bg threshold:\n",
    "thresh=0.065 #@param\n",
    "#@markdown Choose model type:\n",
    "model_type='dino_vits8' #@param\n",
    "#@markdown Choose stride:\n",
    "stride=4 #@param\n",
    "#@markdown Choose elbow coefficient for setting number of clusters\n",
    "elbow=0.975 #@param\n",
    "#@markdown Choose percentage of votes to make a cluster salient.\n",
    "votes_percentage=75\n",
    "#@markdown Choose whether to remove outlier images\n",
    "remove_outliers=False\n",
    "#@markdown Choose threshold to distinguish inliers from outliers\n",
    "outliers_thresh=0.7\n",
    "#@markdown Choose interval for sampling descriptors for training\n",
    "sample_interval=100\n",
    "#@markdown Use low resolution saliency maps -- reduces RAM usage.\n",
    "low_res_saliency_maps=True"
   ],
   "metadata": {
    "collapsed": false,
    "pycharm": {
     "name": "#%%\n"
    }
   }
  },
  {
   "cell_type": "code",
   "execution_count": null,
   "outputs": [],
   "source": [
    "import matplotlib.pyplot as plt\n",
    "import torch\n",
    "from cosegmentation import find_cosegmentation, draw_cosegmentation, draw_cosegmentation_binary_masks\n",
    "\n",
    "with torch.no_grad():\n",
    "\n",
    "     # computing cosegmentation\n",
    "    seg_masks, pil_images = find_cosegmentation(images_paths, elbow, load_size, layer, facet, bin, thresh, model_type,\n",
    "                                                stride, votes_percentage, sample_interval, remove_outliers,\n",
    "                                                outliers_thresh, low_res_saliency_maps)\n",
    "\n",
    "    # saving cosegmentations\n",
    "    binary_mask_figs = draw_cosegmentation_binary_masks(seg_masks)\n",
    "    chessboard_bg_figs = draw_cosegmentation(seg_masks, pil_images)\n",
    "\n",
    "    plt.show()"
   ],
   "metadata": {
    "collapsed": false,
    "pycharm": {
     "name": "#%%\n"
    }
   }
  }
 ],
 "metadata": {
  "kernelspec": {
   "display_name": "Python 3",
   "language": "python",
   "name": "python3"
  },
  "language_info": {
   "codemirror_mode": {
    "name": "ipython",
    "version": 2
   },
   "file_extension": ".py",
   "mimetype": "text/x-python",
   "name": "python",
   "nbconvert_exporter": "python",
   "pygments_lexer": "ipython2",
   "version": "2.7.6"
  }
 },
 "nbformat": 4,
 "nbformat_minor": 0
}